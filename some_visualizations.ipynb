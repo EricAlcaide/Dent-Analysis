{
 "cells": [
  {
   "cell_type": "code",
   "execution_count": 13,
   "metadata": {},
   "outputs": [],
   "source": [
    "import pytraj as pt\n",
    "import nglview as nv"
   ]
  },
  {
   "cell_type": "code",
   "execution_count": 14,
   "metadata": {},
   "outputs": [],
   "source": [
    "traj = pt.load('./Mutant/step7.1b_production.dcd', './Mutant/step5_assembly.psf')"
   ]
  },
  {
   "cell_type": "code",
   "execution_count": 31,
   "metadata": {},
   "outputs": [
    {
     "data": {
      "text/plain": [
       "(187, 251836, 3)"
      ]
     },
     "execution_count": 31,
     "metadata": {},
     "output_type": "execute_result"
    }
   ],
   "source": [
    "traj.xyz[:187,:,:].shape"
   ]
  },
  {
   "cell_type": "code",
   "execution_count": 16,
   "metadata": {},
   "outputs": [
    {
     "name": "stdout",
     "output_type": "stream",
     "text": [
      "{'TIP3', 'SER', 'CYS', 'TYR', 'HSD', 'LYS', 'LEU', 'ASN', 'ASP', 'VAL', 'TRP', 'PHE', 'SOD', 'GLY', 'PRO', 'POPC', 'ARG', 'GLN', 'MET', 'ILE', 'THR', 'ALA', 'CLA', 'GLU'}\n"
     ]
    }
   ],
   "source": [
    "# Print all the residues found\n",
    "print(set(residue.name for residue in traj.top.residues))"
   ]
  },
  {
   "cell_type": "code",
   "execution_count": 17,
   "metadata": {},
   "outputs": [
    {
     "name": "stdout",
     "output_type": "stream",
     "text": [
      "[63, 74, 76, 88, 125, 126, 136, 169, 172, 175, 180, 181, 192, 195, 223, 258, 294, 322, 326, 336, 340, 357, 365, 368, 384, 435, 438, 440, 442, 449, 455, 463, 496, 522, 534, 556, 561, 610, 611, 640, 641, 643, 658, 659, 681, 697, 701, 721, 722, 731]\n"
     ]
    }
   ],
   "source": [
    "# Check all the 'VAL' residues indices\n",
    "print(sorted(set(residue.index for residue in traj.top.residues if residue.name == 'ILE')))"
   ]
  },
  {
   "cell_type": "code",
   "execution_count": null,
   "metadata": {},
   "outputs": [],
   "source": []
  },
  {
   "cell_type": "code",
   "execution_count": 8,
   "metadata": {},
   "outputs": [],
   "source": [
    "from collections import defaultdict\n",
    "\n",
    "residue_positions = defaultdict(list)\n",
    "\n",
    "for index, residue in enumerate(list(traj.top.residues)):\n",
    "    key = residue.name + str(residue.index)\n",
    "    residue_positions[key].append(str(index + 1))"
   ]
  },
  {
   "cell_type": "code",
   "execution_count": 12,
   "metadata": {},
   "outputs": [
    {
     "name": "stdout",
     "output_type": "stream",
     "text": [
      "Residue SER168 not found in traj\n"
     ]
    },
    {
     "data": {
      "text/plain": [
       "':151,826,152,827,153,828,395,1070,396,1071,397,1072,398,1073,111,786,112,787,502,1177,116,791,197,872,202,877,206,881,209,884,210,885,462,1137,499,117'"
      ]
     },
     "execution_count": 12,
     "metadata": {},
     "output_type": "execute_result"
    }
   ],
   "source": [
    "# Cal restar 1 i posar en majúscules\n",
    "# Per exemple Gly209 -> GLY208\n",
    "# A més, cal canviar His -> HSD\n",
    "\n",
    "interesting_residues = ['GLY208', 'LYS209', 'GLU210', 'GLY452', 'LEU453',\n",
    "                        'PHE454', 'ILE455', 'GLY168', 'ILE169', 'SER168',\n",
    "                        'HSD560', 'LYS173', 'PHE254', 'GLY259', 'PHE263',\n",
    "                        'GLU266', 'GLU267', 'SER519', 'TYR557']\n",
    "\n",
    "def get_indices(interesting_residues):\n",
    "    s = ':'\n",
    "    for index, residue in enumerate(interesting_residues):\n",
    "        if len(residue_positions[residue]) == 0:\n",
    "            print(f'Residue {residue} not found in traj')\n",
    "        else:\n",
    "            if index != 0: s += ','\n",
    "            for index2, position in enumerate(residue_positions[residue]):\n",
    "                if index2 != 0: s += ','\n",
    "                s += position\n",
    "    return s[:-1]\n",
    "\n",
    "get_indices(interesting_residues)"
   ]
  },
  {
   "cell_type": "code",
   "execution_count": 18,
   "metadata": {},
   "outputs": [],
   "source": [
    "def select_residues(residues):\n",
    "    '''\n",
    "    \n",
    "    '''\n",
    "    residue_positions = defaultdict(list)\n",
    "    for index, residue in enumerate(list(traj.top.residues)):\n",
    "        key = residue.name + str(residue.index)\n",
    "        residue_positions[key].append(str(index + 1))\n",
    "    \n",
    "    # Get the indices of the wanted residues in traj\n",
    "    indices = get_indices(residues)\n",
    "    \n",
    "    return traj[indices]"
   ]
  },
  {
   "cell_type": "code",
   "execution_count": 47,
   "metadata": {},
   "outputs": [
    {
     "name": "stdout",
     "output_type": "stream",
     "text": [
      "Residue LEU527 not found in traj\n",
      "Residue LEU531 not found in traj\n",
      "Residue MET534 not found in traj\n"
     ]
    }
   ],
   "source": [
    "# Select the interesting residues\n",
    "interesting_residues = [\n",
    "    'ARG377', 'SER381', 'THR380', 'ARG301', 'SER206', 'GLY208',\n",
    "    'LYS209', 'GLU210', 'GLY452', 'LEU453', 'PHE454', 'ILE455',\n",
    "    'TYR557', 'GLY168', 'ILE169', 'GLU267', 'GLY166', 'SER167',\n",
    "    'ALA164', 'HSD560', 'ARG346', 'ASN564', 'TRP342', 'ARG344',\n",
    "    'LYS345', 'LYS353', 'LYS448', 'TYR566', 'LYS158', 'LYS173',\n",
    "    'PHE254', 'GLY259', 'PHE263', 'GLU266', 'SER519', 'THR517',\n",
    "    'LEU527', 'ALA256', 'ILE258', 'GLY260', 'LEU262', 'LEU531',\n",
    "    'MET534', 'LEU537', 'MET538'\n",
    "]\n",
    "\n",
    "mutation = select_residues(interesting_residues)"
   ]
  },
  {
   "cell_type": "code",
   "execution_count": 58,
   "metadata": {},
   "outputs": [
    {
     "data": {
      "application/vnd.jupyter.widget-view+json": {
       "model_id": "3490468d261f4d6cb50e1a12d99e5649",
       "version_major": 2,
       "version_minor": 0
      },
      "text/plain": [
       "NGLWidget(max_frame=186)"
      ]
     },
     "metadata": {},
     "output_type": "display_data"
    }
   ],
   "source": [
    "nv.show_pytraj(mutation)"
   ]
  },
  {
   "cell_type": "code",
   "execution_count": 30,
   "metadata": {},
   "outputs": [
    {
     "name": "stdout",
     "output_type": "stream",
     "text": [
      "[<ILE169, 19 atoms>, <ILE172, 19 atoms>, <ILE258, 19 atoms>, <ILE455, 19 atoms>, <ILE169, 19 atoms>, <ILE258, 19 atoms>, <ILE455, 19 atoms>]\n"
     ]
    }
   ],
   "source": [
    "print([residue for residue in data.top.residues if residue.name == 'ILE'])"
   ]
  },
  {
   "cell_type": "code",
   "execution_count": 50,
   "metadata": {},
   "outputs": [],
   "source": [
    "traj = pt.load('./ciIP/step7.1b_production.dcd', './ciIP/step5_assembly.psf')"
   ]
  },
  {
   "cell_type": "code",
   "execution_count": 51,
   "metadata": {},
   "outputs": [
    {
     "name": "stdout",
     "output_type": "stream",
     "text": [
      "Residue LEU527 not found in traj\n",
      "Residue LEU531 not found in traj\n",
      "Residue MET534 not found in traj\n"
     ]
    }
   ],
   "source": [
    "sanitosano = select_residues(interesting_residues)"
   ]
  },
  {
   "cell_type": "code",
   "execution_count": 35,
   "metadata": {},
   "outputs": [
    {
     "name": "stdout",
     "output_type": "stream",
     "text": [
      "[<ILE169, 19 atoms>, <ILE172, 19 atoms>, <ILE258, 19 atoms>, <ILE455, 19 atoms>, <ILE556, 19 atoms>, <ILE172, 19 atoms>, <ILE258, 19 atoms>]\n"
     ]
    }
   ],
   "source": [
    "print([residue for residue in sanitosano.top.residues if residue.name == 'ILE'])"
   ]
  },
  {
   "cell_type": "code",
   "execution_count": 41,
   "metadata": {},
   "outputs": [
    {
     "data": {
      "text/plain": [
       "158"
      ]
     },
     "execution_count": 41,
     "metadata": {},
     "output_type": "execute_result"
    }
   ],
   "source": [
    "list(matation.top.residues)[0].name\n",
    "list(matation.top.residues)[0].index"
   ]
  },
  {
   "cell_type": "code",
   "execution_count": null,
   "metadata": {},
   "outputs": [],
   "source": []
  },
  {
   "cell_type": "code",
   "execution_count": null,
   "metadata": {},
   "outputs": [],
   "source": []
  },
  {
   "cell_type": "code",
   "execution_count": null,
   "metadata": {},
   "outputs": [],
   "source": []
  },
  {
   "cell_type": "code",
   "execution_count": null,
   "metadata": {},
   "outputs": [],
   "source": []
  }
 ],
 "metadata": {
  "kernelspec": {
   "display_name": "Python 3",
   "language": "python",
   "name": "python3"
  },
  "language_info": {
   "codemirror_mode": {
    "name": "ipython",
    "version": 3
   },
   "file_extension": ".py",
   "mimetype": "text/x-python",
   "name": "python",
   "nbconvert_exporter": "python",
   "pygments_lexer": "ipython3",
   "version": "3.7.5"
  }
 },
 "nbformat": 4,
 "nbformat_minor": 2
}
