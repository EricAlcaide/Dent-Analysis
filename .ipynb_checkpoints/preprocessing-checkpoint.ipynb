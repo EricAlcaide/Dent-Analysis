{
 "cells": [
  {
   "cell_type": "code",
   "execution_count": 1,
   "metadata": {},
   "outputs": [
    {
     "data": {
      "application/vnd.jupyter.widget-view+json": {
       "model_id": "f47242f5666942acb0476207d414f9cc",
       "version_major": 2,
       "version_minor": 0
      },
      "text/plain": [
       "_ColormakerRegistry()"
      ]
     },
     "metadata": {},
     "output_type": "display_data"
    }
   ],
   "source": [
    "import pytraj as pt\n",
    "import nglview as nv"
   ]
  },
  {
   "cell_type": "code",
   "execution_count": 2,
   "metadata": {},
   "outputs": [
    {
     "name": "stdout",
     "output_type": "stream",
     "text": [
      "Traceback (most recent call last):\r\n",
      "  File \"/Users/orioldomingo/Library/Python/2.7/bin/jupyter-nbextension\", line 10, in <module>\r\n",
      "    sys.exit(main())\r\n",
      "  File \"/Users/orioldomingo/Library/Python/2.7/lib/python/site-packages/jupyter_core/application.py\", line 267, in launch_instance\r\n",
      "    return super(JupyterApp, cls).launch_instance(argv=argv, **kwargs)\r\n",
      "  File \"/Users/orioldomingo/Library/Python/2.7/lib/python/site-packages/traitlets/config/application.py\", line 658, in launch_instance\r\n",
      "    app.start()\r\n",
      "  File \"/Users/orioldomingo/Library/Python/2.7/lib/python/site-packages/notebook/nbextensions.py\", line 988, in start\r\n",
      "    super(NBExtensionApp, self).start()\r\n",
      "  File \"/Users/orioldomingo/Library/Python/2.7/lib/python/site-packages/jupyter_core/application.py\", line 256, in start\r\n",
      "    self.subapp.start()\r\n",
      "  File \"/Users/orioldomingo/Library/Python/2.7/lib/python/site-packages/notebook/nbextensions.py\", line 896, in start\r\n",
      "    self.toggle_nbextension_python(self.extra_args[0])\r\n",
      "  File \"/Users/orioldomingo/Library/Python/2.7/lib/python/site-packages/notebook/nbextensions.py\", line 872, in toggle_nbextension_python\r\n",
      "    logger=self.log)\r\n",
      "  File \"/Users/orioldomingo/Library/Python/2.7/lib/python/site-packages/notebook/nbextensions.py\", line 483, in enable_nbextension_python\r\n",
      "    logger=logger)\r\n",
      "  File \"/Users/orioldomingo/Library/Python/2.7/lib/python/site-packages/notebook/nbextensions.py\", line 380, in _set_nbextension_state_python\r\n",
      "    m, nbexts = _get_nbextension_metadata(module)\r\n",
      "  File \"/Users/orioldomingo/Library/Python/2.7/lib/python/site-packages/notebook/nbextensions.py\", line 1122, in _get_nbextension_metadata\r\n",
      "    m = import_item(module)\r\n",
      "  File \"/Users/orioldomingo/Library/Python/2.7/lib/python/site-packages/traitlets/utils/importstring.py\", line 42, in import_item\r\n",
      "    return __import__(parts[0])\r\n",
      "ImportError: No module named nglview\r\n"
     ]
    }
   ],
   "source": [
    "!jupyter-nbextension enable nglview --py --sys-prefix"
   ]
  },
  {
   "cell_type": "code",
   "execution_count": 51,
   "metadata": {},
   "outputs": [],
   "source": [
    "traj = pt.load('../ciIP/step7.1b_production.dcd', '../ciIP/step5_assembly.psf')"
   ]
  },
  {
   "cell_type": "code",
   "execution_count": 52,
   "metadata": {},
   "outputs": [
    {
     "data": {
      "text/plain": [
       "(187, 267821, 3)"
      ]
     },
     "execution_count": 52,
     "metadata": {},
     "output_type": "execute_result"
    }
   ],
   "source": [
    "traj.xyz.shape"
   ]
  },
  {
   "cell_type": "code",
   "execution_count": 165,
   "metadata": {},
   "outputs": [],
   "source": [
    "# view = nv.show_pytraj(traj)\n",
    "# view\n",
    "# Vista completa amb aigues i lípids que no ens interessen"
   ]
  },
  {
   "cell_type": "markdown",
   "metadata": {},
   "source": [
    "***"
   ]
  },
  {
   "cell_type": "code",
   "execution_count": 58,
   "metadata": {},
   "outputs": [
    {
     "name": "stdout",
     "output_type": "stream",
     "text": [
      "['CAY', 'HY1', 'HY2', 'HY3', 'CY', 'OY', 'N', 'HN', 'CA', 'HA', 'CB', 'HB1', 'HB2', 'CG', 'HG', 'CD1', 'HD11', 'HD12', 'HD13', 'CD2']\n"
     ]
    }
   ],
   "source": [
    "print([atom.name for atom in traj.top.atoms][:20])"
   ]
  },
  {
   "cell_type": "code",
   "execution_count": 43,
   "metadata": {},
   "outputs": [
    {
     "data": {
      "text/plain": [
       "<Topology: 438 atoms, 438 residues, 438 mols, non-PBC>"
      ]
     },
     "execution_count": 43,
     "metadata": {},
     "output_type": "execute_result"
    }
   ],
   "source": [
    "traj.top"
   ]
  },
  {
   "cell_type": "code",
   "execution_count": 166,
   "metadata": {},
   "outputs": [
    {
     "data": {
      "text/plain": [
       "array([    8,    27,    46, ..., 21293, 21312, 21322])"
      ]
     },
     "execution_count": 166,
     "metadata": {},
     "output_type": "execute_result"
    }
   ],
   "source": [
    "pt.select_atoms('@CA', traj.top)"
   ]
  },
  {
   "cell_type": "markdown",
   "metadata": {},
   "source": [
    "***"
   ]
  },
  {
   "cell_type": "code",
   "execution_count": 82,
   "metadata": {},
   "outputs": [
    {
     "data": {
      "text/plain": [
       "Counter({'LEU': 168,\n",
       "         'MET': 34,\n",
       "         'ILE': 100,\n",
       "         'GLY': 106,\n",
       "         'SER': 86,\n",
       "         'ALA': 102,\n",
       "         'ASP': 42,\n",
       "         'HSD': 28,\n",
       "         'TRP': 30,\n",
       "         'THR': 88,\n",
       "         'LYS': 58,\n",
       "         'GLU': 72,\n",
       "         'CYS': 34,\n",
       "         'PHE': 76,\n",
       "         'ASN': 40,\n",
       "         'VAL': 106,\n",
       "         'ARG': 58,\n",
       "         'PRO': 58,\n",
       "         'GLN': 22,\n",
       "         'TYR': 44,\n",
       "         'CLA': 174,\n",
       "         'POPC': 438,\n",
       "         'TIP3': 62481,\n",
       "         'SOD': 170})"
      ]
     },
     "execution_count": 82,
     "metadata": {},
     "output_type": "execute_result"
    }
   ],
   "source": [
    "from collections import Counter\n",
    "\n",
    "Counter(residue.name for residue in traj.top.residues)"
   ]
  },
  {
   "cell_type": "markdown",
   "metadata": {},
   "source": [
    "- HSD -> HIS\n",
    "- TIP3 -> Aigües"
   ]
  },
  {
   "cell_type": "code",
   "execution_count": 116,
   "metadata": {},
   "outputs": [
    {
     "data": {
      "text/plain": [
       "<LEU59, 19 atoms>"
      ]
     },
     "execution_count": 116,
     "metadata": {},
     "output_type": "execute_result"
    }
   ],
   "source": [
    "list(traj.top.residues)[1]"
   ]
  },
  {
   "cell_type": "code",
   "execution_count": 137,
   "metadata": {},
   "outputs": [],
   "source": [
    "from collections import defaultdict\n",
    "\n",
    "residue_positions = defaultdict(list)\n",
    "\n",
    "for index, residue in enumerate(list(traj.top.residues)):\n",
    "    key = residue.name + str(residue.index)\n",
    "    residue_positions[key].append(str(index + 1))"
   ]
  },
  {
   "cell_type": "code",
   "execution_count": 159,
   "metadata": {},
   "outputs": [
    {
     "data": {
      "text/plain": [
       "':151,827,152,828,153,829,395,1071,396,1072,397,1073,398,1074,111,787,112,788,,503,1179,116,792,197,873,202,878,206,882,209,885,210,886,462,1138,500,117'"
      ]
     },
     "execution_count": 159,
     "metadata": {},
     "output_type": "execute_result"
    }
   ],
   "source": [
    "# Cal restar 1 i posar en majúscules\n",
    "# Per exemple Gly209 -> GLY208\n",
    "# A més, cal canviar His -> HSD\n",
    "\n",
    "interesting_residues = ['GLY208', 'LYS209', 'GLU210', 'GLY452', 'LEU453',\n",
    "                        'PHE454', 'ILE455', 'GLY168', 'ILE169', 'SER168',\n",
    "                        'HSD560', 'LYS173', 'PHE254', 'GLY259', 'PHE263',\n",
    "                        'GLU266', 'GLU267', 'SER519', 'TYR557']\n",
    "\n",
    "def get_indices(interesting_residues):\n",
    "    s = ':'\n",
    "    for index, residue in enumerate(interesting_residues):\n",
    "        if index != 0:\n",
    "            s += ','\n",
    "        for index2, position in enumerate(residue_positions[residue]):\n",
    "            if index2 != 0:\n",
    "                s += ','\n",
    "            s += position\n",
    "    return s[:-1]\n",
    "\n",
    "get_indices(interesting_residues)"
   ]
  },
  {
   "cell_type": "code",
   "execution_count": 162,
   "metadata": {},
   "outputs": [
    {
     "data": {
      "text/plain": [
       "[<GLY168, 7 atoms>,\n",
       " <ILE169, 19 atoms>,\n",
       " <LYS173, 22 atoms>,\n",
       " <THR174, 14 atoms>,\n",
       " <GLY208, 7 atoms>,\n",
       " <LYS209, 22 atoms>,\n",
       " <GLU210, 15 atoms>,\n",
       " <PHE254, 20 atoms>,\n",
       " <GLY259, 7 atoms>,\n",
       " <PHE263, 20 atoms>,\n",
       " <GLU266, 15 atoms>,\n",
       " <GLU267, 16 atoms>,\n",
       " <GLY452, 7 atoms>,\n",
       " <LEU453, 19 atoms>,\n",
       " <PHE454, 20 atoms>,\n",
       " <ILE455, 19 atoms>,\n",
       " <SER519, 11 atoms>,\n",
       " <TYR557, 21 atoms>,\n",
       " <HSD560, 17 atoms>,\n",
       " <GLY168, 7 atoms>,\n",
       " <ILE169, 19 atoms>,\n",
       " <LYS173, 22 atoms>,\n",
       " <GLY208, 7 atoms>,\n",
       " <LYS209, 22 atoms>,\n",
       " <GLU210, 15 atoms>,\n",
       " <PHE254, 20 atoms>,\n",
       " <GLY259, 7 atoms>,\n",
       " <PHE263, 20 atoms>,\n",
       " <GLU266, 15 atoms>,\n",
       " <GLU267, 16 atoms>,\n",
       " <GLY452, 7 atoms>,\n",
       " <LEU453, 19 atoms>,\n",
       " <PHE454, 20 atoms>,\n",
       " <ILE455, 19 atoms>,\n",
       " <SER519, 11 atoms>,\n",
       " <HSD560, 17 atoms>]"
      ]
     },
     "execution_count": 162,
     "metadata": {},
     "output_type": "execute_result"
    }
   ],
   "source": [
    "list(traj[get_indices(interesting_residues)].top.residues)"
   ]
  },
  {
   "cell_type": "code",
   "execution_count": 112,
   "metadata": {},
   "outputs": [
    {
     "data": {
      "text/plain": [
       "[<LEU61, 19 atoms>]"
      ]
     },
     "execution_count": 112,
     "metadata": {},
     "output_type": "execute_result"
    }
   ],
   "source": [
    "list(traj[':4'].top.residues)"
   ]
  },
  {
   "cell_type": "code",
   "execution_count": 163,
   "metadata": {},
   "outputs": [
    {
     "data": {
      "text/plain": [
       "(187, 561, 3)"
      ]
     },
     "execution_count": 163,
     "metadata": {},
     "output_type": "execute_result"
    }
   ],
   "source": [
    "prova = traj[get_indices(interesting_residues)]\n",
    "prova.xyz.shape"
   ]
  },
  {
   "cell_type": "code",
   "execution_count": 164,
   "metadata": {},
   "outputs": [
    {
     "data": {
      "application/vnd.jupyter.widget-view+json": {
       "model_id": "babda717459746fa98992cbd27f3a286",
       "version_major": 2,
       "version_minor": 0
      },
      "text/plain": [
       "NGLWidget(max_frame=186)"
      ]
     },
     "metadata": {},
     "output_type": "display_data"
    }
   ],
   "source": [
    "nv.show_pytraj(prova)"
   ]
  }
 ],
 "metadata": {
  "kernelspec": {
   "display_name": "Python 3",
   "language": "python",
   "name": "python3"
  },
  "language_info": {
   "codemirror_mode": {
    "name": "ipython",
    "version": 3
   },
   "file_extension": ".py",
   "mimetype": "text/x-python",
   "name": "python",
   "nbconvert_exporter": "python",
   "pygments_lexer": "ipython3",
   "version": "3.7.4"
  }
 },
 "nbformat": 4,
 "nbformat_minor": 4
}
